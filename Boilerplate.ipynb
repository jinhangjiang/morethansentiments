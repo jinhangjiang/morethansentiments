{
 "cells": [
  {
   "cell_type": "code",
   "execution_count": 36,
   "id": "8258ba59",
   "metadata": {},
   "outputs": [],
   "source": [
    "import pandas as pd\n",
    "import os\n",
    "import sys\n",
    "sys.path.append('C:/Users/jinha')\n",
    "import morethansentiments as mts"
   ]
  },
  {
   "cell_type": "code",
   "execution_count": 37,
   "id": "03f5c343",
   "metadata": {},
   "outputs": [
    {
     "name": "stdout",
     "output_type": "stream",
     "text": [
      "C:\\Users\\jinha\n"
     ]
    }
   ],
   "source": [
    "print(os.getcwd())"
   ]
  },
  {
   "cell_type": "code",
   "execution_count": 46,
   "id": "d94be22a",
   "metadata": {},
   "outputs": [
    {
     "name": "stdout",
     "output_type": "stream",
     "text": [
      "✔ Download and installation successful\n",
      "You can now load the package via spacy.load('en_core_web_sm')\n"
     ]
    },
    {
     "data": {
      "text/plain": [
       "<module 'TextComplexity' from 'C:\\\\Users\\\\jinha\\\\TextComplexity.py'>"
      ]
     },
     "execution_count": 46,
     "metadata": {},
     "output_type": "execute_result"
    }
   ],
   "source": [
    "import importlib\n",
    "importlib.reload(mts)"
   ]
  },
  {
   "cell_type": "code",
   "execution_count": 39,
   "id": "b5343fb0",
   "metadata": {},
   "outputs": [
    {
     "data": {
      "text/plain": [
       "'Lib is ready'"
      ]
     },
     "execution_count": 39,
     "metadata": {},
     "output_type": "execute_result"
    }
   ],
   "source": [
    "tc.test_func()"
   ]
  },
  {
   "cell_type": "markdown",
   "id": "548a133e",
   "metadata": {},
   "source": [
    "### Read Data"
   ]
  },
  {
   "cell_type": "code",
   "execution_count": 20,
   "id": "8c26b370",
   "metadata": {},
   "outputs": [],
   "source": [
    "my_dir_path = \"E:/Package/Boilerplate/Data/bbc/business\""
   ]
  },
  {
   "cell_type": "code",
   "execution_count": 21,
   "id": "1be71659",
   "metadata": {},
   "outputs": [
    {
     "data": {
      "text/html": [
       "<div>\n",
       "<style scoped>\n",
       "    .dataframe tbody tr th:only-of-type {\n",
       "        vertical-align: middle;\n",
       "    }\n",
       "\n",
       "    .dataframe tbody tr th {\n",
       "        vertical-align: top;\n",
       "    }\n",
       "\n",
       "    .dataframe thead th {\n",
       "        text-align: right;\n",
       "    }\n",
       "</style>\n",
       "<table border=\"1\" class=\"dataframe\">\n",
       "  <thead>\n",
       "    <tr style=\"text-align: right;\">\n",
       "      <th></th>\n",
       "      <th>file_num</th>\n",
       "      <th>text</th>\n",
       "    </tr>\n",
       "  </thead>\n",
       "  <tbody>\n",
       "    <tr>\n",
       "      <th>0</th>\n",
       "      <td>001.txt</td>\n",
       "      <td>Ad sales boost Time Warner profit  Quarterly p...</td>\n",
       "    </tr>\n",
       "    <tr>\n",
       "      <th>1</th>\n",
       "      <td>002.txt</td>\n",
       "      <td>Dollar gains on Greenspan speech  The dollar h...</td>\n",
       "    </tr>\n",
       "    <tr>\n",
       "      <th>2</th>\n",
       "      <td>003.txt</td>\n",
       "      <td>Yukos unit buyer faces loan claim  The owners ...</td>\n",
       "    </tr>\n",
       "    <tr>\n",
       "      <th>3</th>\n",
       "      <td>004.txt</td>\n",
       "      <td>High fuel prices hit BA's profits  British Air...</td>\n",
       "    </tr>\n",
       "    <tr>\n",
       "      <th>4</th>\n",
       "      <td>005.txt</td>\n",
       "      <td>Pernod takeover talk lifts Domecq  Shares in U...</td>\n",
       "    </tr>\n",
       "    <tr>\n",
       "      <th>...</th>\n",
       "      <td>...</td>\n",
       "      <td>...</td>\n",
       "    </tr>\n",
       "    <tr>\n",
       "      <th>505</th>\n",
       "      <td>506.txt</td>\n",
       "      <td>Trial begins of Spain's top banker  The trial ...</td>\n",
       "    </tr>\n",
       "    <tr>\n",
       "      <th>506</th>\n",
       "      <td>507.txt</td>\n",
       "      <td>UK economy ends year with spurt  The UK econom...</td>\n",
       "    </tr>\n",
       "    <tr>\n",
       "      <th>507</th>\n",
       "      <td>508.txt</td>\n",
       "      <td>HealthSouth ex-boss goes on trial  The former ...</td>\n",
       "    </tr>\n",
       "    <tr>\n",
       "      <th>508</th>\n",
       "      <td>509.txt</td>\n",
       "      <td>Euro firms miss out on optimism  More than 90%...</td>\n",
       "    </tr>\n",
       "    <tr>\n",
       "      <th>509</th>\n",
       "      <td>510.txt</td>\n",
       "      <td>Lacroix label bought by US firm  Luxury goods ...</td>\n",
       "    </tr>\n",
       "  </tbody>\n",
       "</table>\n",
       "<p>510 rows × 2 columns</p>\n",
       "</div>"
      ],
      "text/plain": [
       "    file_num                                               text\n",
       "0    001.txt  Ad sales boost Time Warner profit  Quarterly p...\n",
       "1    002.txt  Dollar gains on Greenspan speech  The dollar h...\n",
       "2    003.txt  Yukos unit buyer faces loan claim  The owners ...\n",
       "3    004.txt  High fuel prices hit BA's profits  British Air...\n",
       "4    005.txt  Pernod takeover talk lifts Domecq  Shares in U...\n",
       "..       ...                                                ...\n",
       "505  506.txt  Trial begins of Spain's top banker  The trial ...\n",
       "506  507.txt  UK economy ends year with spurt  The UK econom...\n",
       "507  508.txt  HealthSouth ex-boss goes on trial  The former ...\n",
       "508  509.txt  Euro firms miss out on optimism  More than 90%...\n",
       "509  510.txt  Lacroix label bought by US firm  Luxury goods ...\n",
       "\n",
       "[510 rows x 2 columns]"
      ]
     },
     "metadata": {},
     "output_type": "display_data"
    }
   ],
   "source": [
    "df = nlp.read_txt_files(PATH = my_dir_path)\n",
    "display(df)"
   ]
  },
  {
   "cell_type": "markdown",
   "id": "80d948dc",
   "metadata": {},
   "source": [
    "### Preprocess data"
   ]
  },
  {
   "cell_type": "code",
   "execution_count": 22,
   "id": "94b76fdd",
   "metadata": {},
   "outputs": [],
   "source": [
    "temp_col = []\n",
    "for i in range(len(df)):\n",
    "    temp_col.append(mts.sent_tok(df.text[i]))\n",
    "    \n",
    "for i in range(len(temp_col)):\n",
    "    temp_col[i] = [mts.clean_data(x, lower = True, punctuations=True, number=False, unicode=True, stop_words=None) for x in temp_col[i]]\n",
    "    \n",
    "df['cleaned_data'] = pd.Series(temp_col)    "
   ]
  },
  {
   "cell_type": "code",
   "execution_count": 49,
   "id": "94b6a556",
   "metadata": {
    "scrolled": false
   },
   "outputs": [
    {
     "name": "stderr",
     "output_type": "stream",
     "text": [
      "Get the Boilerplate: 100%|█████████████████████████████████████████████████████████| 510/510 [00:00<00:00, 3774.53it/s]\n",
      "Get the Length of Sentence: 100%|█████████████████████████████████████████████████| 510/510 [00:00<00:00, 63699.56it/s]\n",
      "Flag the Sentence: 100%|████████████████████████████████████████████████████████████| 510/510 [00:00<00:00, 783.94it/s]\n"
     ]
    },
    {
     "data": {
      "text/plain": [
       "'======================== Boilerplate Calculation Started ========================='"
      ]
     },
     "metadata": {},
     "output_type": "display_data"
    },
    {
     "data": {
      "text/plain": [
       "'======================== Boilerplate Calculation Finished ========================'"
      ]
     },
     "metadata": {},
     "output_type": "display_data"
    },
    {
     "name": "stdout",
     "output_type": "stream",
     "text": [
      "Wall time: 1.3 s\n"
     ]
    }
   ],
   "source": [
    "%%time\n",
    "df['Boilerplate'] = mts.Boilerplate(df.cleaned_data, n = 4, min_doc = 5)"
   ]
  },
  {
   "cell_type": "code",
   "execution_count": 9,
   "id": "9214de27",
   "metadata": {},
   "outputs": [
    {
     "name": "stderr",
     "output_type": "stream",
     "text": [
      "Get the Redundancy: 100%|██████████████████████████████████████████████████████████| 510/510 [00:00<00:00, 6214.22it/s]\n"
     ]
    },
    {
     "name": "stdout",
     "output_type": "stream",
     "text": [
      "Wall time: 671 ms\n"
     ]
    }
   ],
   "source": [
    "%%time\n",
    "df['Redundancy'] = mts.Redundancy(df.cleaned_data, n = 10)"
   ]
  },
  {
   "cell_type": "code",
   "execution_count": 10,
   "id": "4c2aace2",
   "metadata": {},
   "outputs": [
    {
     "name": "stderr",
     "output_type": "stream",
     "text": [
      "Get the Specificity: 100%|███████████████████████████████████████████████████████████| 510/510 [00:18<00:00, 28.06it/s]"
     ]
    },
    {
     "name": "stdout",
     "output_type": "stream",
     "text": [
      "Wall time: 18.6 s\n"
     ]
    },
    {
     "name": "stderr",
     "output_type": "stream",
     "text": [
      "\n"
     ]
    }
   ],
   "source": [
    "%%time\n",
    "df['Specificity'] = mts.Specificity(df.text)"
   ]
  },
  {
   "cell_type": "code",
   "execution_count": 11,
   "id": "7e2db81a",
   "metadata": {},
   "outputs": [
    {
     "name": "stderr",
     "output_type": "stream",
     "text": [
      "Get the Relative_prevalence: 100%|█████████████████████████████████████████████████| 510/510 [00:00<00:00, 6660.98it/s]"
     ]
    },
    {
     "name": "stdout",
     "output_type": "stream",
     "text": [
      "Wall time: 78.1 ms\n"
     ]
    },
    {
     "name": "stderr",
     "output_type": "stream",
     "text": [
      "\n"
     ]
    }
   ],
   "source": [
    "%%time\n",
    "df['Relative_prevalence'] = mts.Relative_prevalence(df.text)"
   ]
  },
  {
   "cell_type": "code",
   "execution_count": 50,
   "id": "94a9379e",
   "metadata": {},
   "outputs": [
    {
     "data": {
      "text/html": [
       "<div>\n",
       "<style scoped>\n",
       "    .dataframe tbody tr th:only-of-type {\n",
       "        vertical-align: middle;\n",
       "    }\n",
       "\n",
       "    .dataframe tbody tr th {\n",
       "        vertical-align: top;\n",
       "    }\n",
       "\n",
       "    .dataframe thead th {\n",
       "        text-align: right;\n",
       "    }\n",
       "</style>\n",
       "<table border=\"1\" class=\"dataframe\">\n",
       "  <thead>\n",
       "    <tr style=\"text-align: right;\">\n",
       "      <th></th>\n",
       "      <th>file_num</th>\n",
       "      <th>text</th>\n",
       "      <th>cleaned_data</th>\n",
       "      <th>Boilerplate</th>\n",
       "    </tr>\n",
       "  </thead>\n",
       "  <tbody>\n",
       "    <tr>\n",
       "      <th>0</th>\n",
       "      <td>001.txt</td>\n",
       "      <td>Ad sales boost Time Warner profit  Quarterly p...</td>\n",
       "      <td>[ad sales boost time warner profit  quarterly ...</td>\n",
       "      <td>0.268409</td>\n",
       "    </tr>\n",
       "    <tr>\n",
       "      <th>1</th>\n",
       "      <td>002.txt</td>\n",
       "      <td>Dollar gains on Greenspan speech  The dollar h...</td>\n",
       "      <td>[dollar gains on greenspan speech  the dollar ...</td>\n",
       "      <td>0.188482</td>\n",
       "    </tr>\n",
       "    <tr>\n",
       "      <th>2</th>\n",
       "      <td>003.txt</td>\n",
       "      <td>Yukos unit buyer faces loan claim  The owners ...</td>\n",
       "      <td>[yukos unit buyer faces loan claim  the owners...</td>\n",
       "      <td>0.386364</td>\n",
       "    </tr>\n",
       "    <tr>\n",
       "      <th>3</th>\n",
       "      <td>004.txt</td>\n",
       "      <td>High fuel prices hit BA's profits  British Air...</td>\n",
       "      <td>[high fuel prices hit bas profits  british air...</td>\n",
       "      <td>0.279302</td>\n",
       "    </tr>\n",
       "    <tr>\n",
       "      <th>4</th>\n",
       "      <td>005.txt</td>\n",
       "      <td>Pernod takeover talk lifts Domecq  Shares in U...</td>\n",
       "      <td>[pernod takeover talk lifts domecq  shares in ...</td>\n",
       "      <td>0.267176</td>\n",
       "    </tr>\n",
       "    <tr>\n",
       "      <th>...</th>\n",
       "      <td>...</td>\n",
       "      <td>...</td>\n",
       "      <td>...</td>\n",
       "      <td>...</td>\n",
       "    </tr>\n",
       "    <tr>\n",
       "      <th>505</th>\n",
       "      <td>506.txt</td>\n",
       "      <td>Trial begins of Spain's top banker  The trial ...</td>\n",
       "      <td>[trial begins of spains top banker  the trial ...</td>\n",
       "      <td>0.000000</td>\n",
       "    </tr>\n",
       "    <tr>\n",
       "      <th>506</th>\n",
       "      <td>507.txt</td>\n",
       "      <td>UK economy ends year with spurt  The UK econom...</td>\n",
       "      <td>[uk economy ends year with spurt  the uk econo...</td>\n",
       "      <td>0.279915</td>\n",
       "    </tr>\n",
       "    <tr>\n",
       "      <th>507</th>\n",
       "      <td>508.txt</td>\n",
       "      <td>HealthSouth ex-boss goes on trial  The former ...</td>\n",
       "      <td>[healthsouth exboss goes on trial  the former ...</td>\n",
       "      <td>0.085973</td>\n",
       "    </tr>\n",
       "    <tr>\n",
       "      <th>508</th>\n",
       "      <td>509.txt</td>\n",
       "      <td>Euro firms miss out on optimism  More than 90%...</td>\n",
       "      <td>[euro firms miss out on optimism  more than 90...</td>\n",
       "      <td>0.180952</td>\n",
       "    </tr>\n",
       "    <tr>\n",
       "      <th>509</th>\n",
       "      <td>510.txt</td>\n",
       "      <td>Lacroix label bought by US firm  Luxury goods ...</td>\n",
       "      <td>[lacroix label bought by us firm  luxury goods...</td>\n",
       "      <td>0.147651</td>\n",
       "    </tr>\n",
       "  </tbody>\n",
       "</table>\n",
       "<p>510 rows × 4 columns</p>\n",
       "</div>"
      ],
      "text/plain": [
       "    file_num                                               text  \\\n",
       "0    001.txt  Ad sales boost Time Warner profit  Quarterly p...   \n",
       "1    002.txt  Dollar gains on Greenspan speech  The dollar h...   \n",
       "2    003.txt  Yukos unit buyer faces loan claim  The owners ...   \n",
       "3    004.txt  High fuel prices hit BA's profits  British Air...   \n",
       "4    005.txt  Pernod takeover talk lifts Domecq  Shares in U...   \n",
       "..       ...                                                ...   \n",
       "505  506.txt  Trial begins of Spain's top banker  The trial ...   \n",
       "506  507.txt  UK economy ends year with spurt  The UK econom...   \n",
       "507  508.txt  HealthSouth ex-boss goes on trial  The former ...   \n",
       "508  509.txt  Euro firms miss out on optimism  More than 90%...   \n",
       "509  510.txt  Lacroix label bought by US firm  Luxury goods ...   \n",
       "\n",
       "                                          cleaned_data  Boilerplate  \n",
       "0    [ad sales boost time warner profit  quarterly ...     0.268409  \n",
       "1    [dollar gains on greenspan speech  the dollar ...     0.188482  \n",
       "2    [yukos unit buyer faces loan claim  the owners...     0.386364  \n",
       "3    [high fuel prices hit bas profits  british air...     0.279302  \n",
       "4    [pernod takeover talk lifts domecq  shares in ...     0.267176  \n",
       "..                                                 ...          ...  \n",
       "505  [trial begins of spains top banker  the trial ...     0.000000  \n",
       "506  [uk economy ends year with spurt  the uk econo...     0.279915  \n",
       "507  [healthsouth exboss goes on trial  the former ...     0.085973  \n",
       "508  [euro firms miss out on optimism  more than 90...     0.180952  \n",
       "509  [lacroix label bought by us firm  luxury goods...     0.147651  \n",
       "\n",
       "[510 rows x 4 columns]"
      ]
     },
     "execution_count": 50,
     "metadata": {},
     "output_type": "execute_result"
    }
   ],
   "source": [
    "df"
   ]
  },
  {
   "cell_type": "code",
   "execution_count": null,
   "id": "a2a1ad56",
   "metadata": {},
   "outputs": [],
   "source": []
  }
 ],
 "metadata": {
  "kernelspec": {
   "display_name": "Python 3",
   "language": "python",
   "name": "python3"
  },
  "language_info": {
   "codemirror_mode": {
    "name": "ipython",
    "version": 3
   },
   "file_extension": ".py",
   "mimetype": "text/x-python",
   "name": "python",
   "nbconvert_exporter": "python",
   "pygments_lexer": "ipython3",
   "version": "3.8.8"
  }
 },
 "nbformat": 4,
 "nbformat_minor": 5
}
