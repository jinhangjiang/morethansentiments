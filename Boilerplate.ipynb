{
 "cells": [
  {
   "cell_type": "code",
   "execution_count": 1,
   "id": "KsTJ4r1URUus",
   "metadata": {
    "colab": {
     "base_uri": "https://localhost:8080/"
    },
    "id": "KsTJ4r1URUus",
    "outputId": "ded0c0ad-4121-4ed9-a955-15eceab49cef"
   },
   "outputs": [
    {
     "name": "stdout",
     "output_type": "stream",
     "text": [
      "✔ Download and installation successful\n",
      "You can now load the package via spacy.load('en_core_web_sm')\n"
     ]
    }
   ],
   "source": [
    "import pandas as pd\n",
    "import sys\n",
    "# sys.path.append('E:\\Package\\Boilerplate\\morethansentiments\\src')\n",
    "import MoreThanSentiments as mts"
   ]
  },
  {
   "cell_type": "code",
   "execution_count": 2,
   "id": "rhF-Q2h9RUuw",
   "metadata": {
    "colab": {
     "base_uri": "https://localhost:8080/"
    },
    "id": "rhF-Q2h9RUuw",
    "outputId": "22942476-5587-44d7-80f6-626b9d3b9881"
   },
   "outputs": [
    {
     "name": "stdout",
     "output_type": "stream",
     "text": [
      "✔ Download and installation successful\n",
      "You can now load the package via spacy.load('en_core_web_sm')\n"
     ]
    },
    {
     "data": {
      "text/plain": [
       "<module 'MoreThanSentiments' from 'e:\\\\package\\\\boilerplate\\\\morethansentiments\\\\src\\\\MoreThanSentiments.py'>"
      ]
     },
     "execution_count": 2,
     "metadata": {},
     "output_type": "execute_result"
    }
   ],
   "source": [
    "import importlib\n",
    "importlib.reload(mts)"
   ]
  },
  {
   "cell_type": "code",
   "execution_count": 3,
   "id": "0yJ5TKbtRUuw",
   "metadata": {
    "colab": {
     "base_uri": "https://localhost:8080/",
     "height": 37
    },
    "id": "0yJ5TKbtRUuw",
    "outputId": "36ae2c6d-012a-4e0e-f56f-e06a630596f4"
   },
   "outputs": [
    {
     "data": {
      "text/plain": [
       "'Lib is ready'"
      ]
     },
     "execution_count": 3,
     "metadata": {},
     "output_type": "execute_result"
    }
   ],
   "source": [
    "mts.test_func()"
   ]
  },
  {
   "cell_type": "markdown",
   "id": "6IOX-sZBRUux",
   "metadata": {
    "id": "6IOX-sZBRUux"
   },
   "source": [
    "### Read Data"
   ]
  },
  {
   "cell_type": "code",
   "execution_count": 12,
   "id": "W0cTccxoRUuy",
   "metadata": {
    "id": "W0cTccxoRUuy"
   },
   "outputs": [],
   "source": [
    "my_dir_path = \"/content/business\""
   ]
  },
  {
   "cell_type": "code",
   "execution_count": 13,
   "id": "9m4nd_82RUuz",
   "metadata": {
    "colab": {
     "base_uri": "https://localhost:8080/",
     "height": 424
    },
    "id": "9m4nd_82RUuz",
    "outputId": "36e3ad1d-a020-4a63-bc1d-381c3f8689d2"
   },
   "outputs": [
    {
     "data": {
      "text/html": [
       "<div>\n",
       "<style scoped>\n",
       "    .dataframe tbody tr th:only-of-type {\n",
       "        vertical-align: middle;\n",
       "    }\n",
       "\n",
       "    .dataframe tbody tr th {\n",
       "        vertical-align: top;\n",
       "    }\n",
       "\n",
       "    .dataframe thead th {\n",
       "        text-align: right;\n",
       "    }\n",
       "</style>\n",
       "<table border=\"1\" class=\"dataframe\">\n",
       "  <thead>\n",
       "    <tr style=\"text-align: right;\">\n",
       "      <th></th>\n",
       "      <th>file_num</th>\n",
       "      <th>text</th>\n",
       "    </tr>\n",
       "  </thead>\n",
       "  <tbody>\n",
       "    <tr>\n",
       "      <th>0</th>\n",
       "      <td>001.txt</td>\n",
       "      <td>Ad sales boost Time Warner profit  Quarterly p...</td>\n",
       "    </tr>\n",
       "    <tr>\n",
       "      <th>1</th>\n",
       "      <td>002.txt</td>\n",
       "      <td>Dollar gains on Greenspan speech  The dollar h...</td>\n",
       "    </tr>\n",
       "    <tr>\n",
       "      <th>2</th>\n",
       "      <td>003.txt</td>\n",
       "      <td>Yukos unit buyer faces loan claim  The owners ...</td>\n",
       "    </tr>\n",
       "    <tr>\n",
       "      <th>3</th>\n",
       "      <td>004.txt</td>\n",
       "      <td>High fuel prices hit BA's profits  British Air...</td>\n",
       "    </tr>\n",
       "    <tr>\n",
       "      <th>4</th>\n",
       "      <td>005.txt</td>\n",
       "      <td>Pernod takeover talk lifts Domecq  Shares in U...</td>\n",
       "    </tr>\n",
       "    <tr>\n",
       "      <th>...</th>\n",
       "      <td>...</td>\n",
       "      <td>...</td>\n",
       "    </tr>\n",
       "    <tr>\n",
       "      <th>505</th>\n",
       "      <td>506.txt</td>\n",
       "      <td>Trial begins of Spain's top banker  The trial ...</td>\n",
       "    </tr>\n",
       "    <tr>\n",
       "      <th>506</th>\n",
       "      <td>507.txt</td>\n",
       "      <td>UK economy ends year with spurt  The UK econom...</td>\n",
       "    </tr>\n",
       "    <tr>\n",
       "      <th>507</th>\n",
       "      <td>508.txt</td>\n",
       "      <td>HealthSouth ex-boss goes on trial  The former ...</td>\n",
       "    </tr>\n",
       "    <tr>\n",
       "      <th>508</th>\n",
       "      <td>509.txt</td>\n",
       "      <td>Euro firms miss out on optimism  More than 90%...</td>\n",
       "    </tr>\n",
       "    <tr>\n",
       "      <th>509</th>\n",
       "      <td>510.txt</td>\n",
       "      <td>Lacroix label bought by US firm  Luxury goods ...</td>\n",
       "    </tr>\n",
       "  </tbody>\n",
       "</table>\n",
       "<p>510 rows × 2 columns</p>\n",
       "</div>"
      ],
      "text/plain": [
       "    file_num                                               text\n",
       "0    001.txt  Ad sales boost Time Warner profit  Quarterly p...\n",
       "1    002.txt  Dollar gains on Greenspan speech  The dollar h...\n",
       "2    003.txt  Yukos unit buyer faces loan claim  The owners ...\n",
       "3    004.txt  High fuel prices hit BA's profits  British Air...\n",
       "4    005.txt  Pernod takeover talk lifts Domecq  Shares in U...\n",
       "..       ...                                                ...\n",
       "505  506.txt  Trial begins of Spain's top banker  The trial ...\n",
       "506  507.txt  UK economy ends year with spurt  The UK econom...\n",
       "507  508.txt  HealthSouth ex-boss goes on trial  The former ...\n",
       "508  509.txt  Euro firms miss out on optimism  More than 90%...\n",
       "509  510.txt  Lacroix label bought by US firm  Luxury goods ...\n",
       "\n",
       "[510 rows x 2 columns]"
      ]
     },
     "metadata": {},
     "output_type": "display_data"
    }
   ],
   "source": [
    "df = mts.read_txt_files(PATH = my_dir_path)\n",
    "display(df)"
   ]
  },
  {
   "cell_type": "markdown",
   "id": "emRyY264RUuz",
   "metadata": {
    "id": "emRyY264RUuz"
   },
   "source": [
    "### Preprocess data"
   ]
  },
  {
   "cell_type": "code",
   "execution_count": 14,
   "id": "TPTnCsAqTj_S",
   "metadata": {
    "colab": {
     "base_uri": "https://localhost:8080/"
    },
    "id": "TPTnCsAqTj_S",
    "outputId": "88ed2cb8-39cc-4dd8-c8d5-94b355c53845"
   },
   "outputs": [
    {
     "name": "stderr",
     "output_type": "stream",
     "text": [
      "[nltk_data] Downloading package punkt to\n",
      "[nltk_data]     C:\\Users\\jinha\\AppData\\Roaming\\nltk_data...\n",
      "[nltk_data]   Unzipping tokenizers\\punkt.zip.\n"
     ]
    },
    {
     "data": {
      "text/plain": [
       "True"
      ]
     },
     "execution_count": 14,
     "metadata": {},
     "output_type": "execute_result"
    }
   ],
   "source": [
    "import nltk\n",
    "nltk.download('punkt')"
   ]
  },
  {
   "cell_type": "code",
   "execution_count": 15,
   "id": "a6-KuagaRUu0",
   "metadata": {
    "id": "a6-KuagaRUu0"
   },
   "outputs": [],
   "source": [
    "df['sent_tok'] = df.text.apply(mts.sent_tok)"
   ]
  },
  {
   "cell_type": "code",
   "execution_count": 16,
   "id": "m5CsGX-CRUu0",
   "metadata": {
    "id": "m5CsGX-CRUu0"
   },
   "outputs": [],
   "source": [
    "df['cleaned_data'] = pd.Series()    \n",
    "for i in range(len(df['sent_tok'])):\n",
    "    df['cleaned_data'][i] = [mts.clean_data(x,\\\n",
    "                                            lower = True,\\\n",
    "                                            punctuations=True,\\\n",
    "                                            number=False,\\\n",
    "                                            unicode=True,\\\n",
    "                                            stop_words=False) for x in df['sent_tok'][i]] "
   ]
  },
  {
   "cell_type": "code",
   "execution_count": 17,
   "id": "9Dy6QsajRUu1",
   "metadata": {
    "colab": {
     "base_uri": "https://localhost:8080/",
     "height": 162
    },
    "id": "9Dy6QsajRUu1",
    "outputId": "566a5b8c-74b4-4993-9efc-95903dd29616",
    "scrolled": false
   },
   "outputs": [
    {
     "name": "stderr",
     "output_type": "stream",
     "text": [
      "Get the Boilerplate: 100%|█████████████████████████████████████████████████████████| 510/510 [00:00<00:00, 7605.48it/s]\n",
      "Get the Length of Sentence: 100%|█████████████████████████████████████████████████| 510/510 [00:00<00:00, 59942.14it/s]\n",
      "Flag the Sentence: 100%|██████████████████████████████████████████████████████████| 510/510 [00:00<00:00, 12132.30it/s]\n"
     ]
    },
    {
     "data": {
      "text/plain": [
       "'======================== Boilerplate Calculation Started ========================='"
      ]
     },
     "metadata": {},
     "output_type": "display_data"
    },
    {
     "data": {
      "text/plain": [
       "'======================== Boilerplate Calculation Finished ========================'"
      ]
     },
     "metadata": {},
     "output_type": "display_data"
    },
    {
     "name": "stdout",
     "output_type": "stream",
     "text": [
      "Wall time: 679 ms\n"
     ]
    },
    {
     "data": {
      "text/plain": [
       "0.005362744744868861"
      ]
     },
     "execution_count": 17,
     "metadata": {},
     "output_type": "execute_result"
    }
   ],
   "source": [
    "%%time\n",
    "df['Boilerplate'] = mts.Boilerplate(df.cleaned_data, n = 4, min_doc = 30, get_ngram = False)\n",
    "df['Boilerplate'].mean()"
   ]
  },
  {
   "cell_type": "code",
   "execution_count": 18,
   "id": "RWeFIWnORUu1",
   "metadata": {
    "colab": {
     "base_uri": "https://localhost:8080/",
     "height": 127
    },
    "id": "RWeFIWnORUu1",
    "outputId": "b8c13fef-289c-40b6-a3c0-02dba8589426"
   },
   "outputs": [
    {
     "name": "stderr",
     "output_type": "stream",
     "text": [
      "Get the Boilerplate: 100%|█████████████████████████████████████████████████████████| 510/510 [00:00<00:00, 7839.33it/s]\n",
      "Get the Length of Sentence: 100%|█████████████████████████████████████████████████| 510/510 [00:00<00:00, 63695.77it/s]\n",
      "Flag the Sentence: 100%|███████████████████████████████████████████████████████████| 510/510 [00:00<00:00, 9991.29it/s]\n"
     ]
    },
    {
     "data": {
      "text/plain": [
       "'======================== Boilerplate Calculation Started ========================='"
      ]
     },
     "metadata": {},
     "output_type": "display_data"
    },
    {
     "data": {
      "text/plain": [
       "'======================== Boilerplate Calculation Finished ========================'"
      ]
     },
     "metadata": {},
     "output_type": "display_data"
    },
    {
     "data": {
      "text/plain": [
       "0.005362744744868861"
      ]
     },
     "execution_count": 18,
     "metadata": {},
     "output_type": "execute_result"
    }
   ],
   "source": [
    "df['Boilerplate'] = mts.Boilerplate(df.cleaned_data, n = 4, min_doc = 0.058, get_ngram = False)\n",
    "df['Boilerplate'].mean()"
   ]
  },
  {
   "cell_type": "code",
   "execution_count": 19,
   "id": "X6Bdc7hrRUu2",
   "metadata": {
    "colab": {
     "base_uri": "https://localhost:8080/",
     "height": 441
    },
    "id": "X6Bdc7hrRUu2",
    "outputId": "a39e6cba-1c1c-4dd1-ab19-8dddc184fb64"
   },
   "outputs": [
    {
     "name": "stderr",
     "output_type": "stream",
     "text": [
      "Get the Boilerplate: 100%|█████████████████████████████████████████████████████████| 510/510 [00:00<00:00, 7720.53it/s]\n"
     ]
    },
    {
     "data": {
      "text/html": [
       "<div>\n",
       "<style scoped>\n",
       "    .dataframe tbody tr th:only-of-type {\n",
       "        vertical-align: middle;\n",
       "    }\n",
       "\n",
       "    .dataframe tbody tr th {\n",
       "        vertical-align: top;\n",
       "    }\n",
       "\n",
       "    .dataframe thead th {\n",
       "        text-align: right;\n",
       "    }\n",
       "</style>\n",
       "<table border=\"1\" class=\"dataframe\">\n",
       "  <thead>\n",
       "    <tr style=\"text-align: right;\">\n",
       "      <th></th>\n",
       "      <th>unique_ngrams</th>\n",
       "      <th>counts</th>\n",
       "    </tr>\n",
       "  </thead>\n",
       "  <tbody>\n",
       "    <tr>\n",
       "      <th>0</th>\n",
       "      <td>(said, in, a, statement)</td>\n",
       "      <td>32</td>\n",
       "    </tr>\n",
       "    <tr>\n",
       "      <th>1</th>\n",
       "      <td>(for, the, first, time)</td>\n",
       "      <td>19</td>\n",
       "    </tr>\n",
       "    <tr>\n",
       "      <th>2</th>\n",
       "      <td>(the, bank, of, england)</td>\n",
       "      <td>19</td>\n",
       "    </tr>\n",
       "    <tr>\n",
       "      <th>3</th>\n",
       "      <td>(securities, and, exchange, commission)</td>\n",
       "      <td>19</td>\n",
       "    </tr>\n",
       "    <tr>\n",
       "      <th>4</th>\n",
       "      <td>(by, the, end, of)</td>\n",
       "      <td>18</td>\n",
       "    </tr>\n",
       "    <tr>\n",
       "      <th>...</th>\n",
       "      <td>...</td>\n",
       "      <td>...</td>\n",
       "    </tr>\n",
       "    <tr>\n",
       "      <th>131836</th>\n",
       "      <td>(from, mr, glazer, which)</td>\n",
       "      <td>1</td>\n",
       "    </tr>\n",
       "    <tr>\n",
       "      <th>131837</th>\n",
       "      <td>(from, mr, ghosn, who)</td>\n",
       "      <td>1</td>\n",
       "    </tr>\n",
       "    <tr>\n",
       "      <th>131838</th>\n",
       "      <td>(from, mr, blair, more)</td>\n",
       "      <td>1</td>\n",
       "    </tr>\n",
       "    <tr>\n",
       "      <th>131839</th>\n",
       "      <td>(from, more, than, 3)</td>\n",
       "      <td>1</td>\n",
       "    </tr>\n",
       "    <tr>\n",
       "      <th>131840</th>\n",
       "      <td>(zurich, financial, said, they)</td>\n",
       "      <td>1</td>\n",
       "    </tr>\n",
       "  </tbody>\n",
       "</table>\n",
       "<p>131841 rows × 2 columns</p>\n",
       "</div>"
      ],
      "text/plain": [
       "                                  unique_ngrams  counts\n",
       "0                      (said, in, a, statement)      32\n",
       "1                       (for, the, first, time)      19\n",
       "2                      (the, bank, of, england)      19\n",
       "3       (securities, and, exchange, commission)      19\n",
       "4                            (by, the, end, of)      18\n",
       "...                                         ...     ...\n",
       "131836                (from, mr, glazer, which)       1\n",
       "131837                   (from, mr, ghosn, who)       1\n",
       "131838                  (from, mr, blair, more)       1\n",
       "131839                    (from, more, than, 3)       1\n",
       "131840          (zurich, financial, said, they)       1\n",
       "\n",
       "[131841 rows x 2 columns]"
      ]
     },
     "execution_count": 19,
     "metadata": {},
     "output_type": "execute_result"
    }
   ],
   "source": [
    "ngram_list = mts.Boilerplate(df.cleaned_data, n = 4, min_doc = 30, get_ngram = True)\n",
    "ngram_list"
   ]
  },
  {
   "cell_type": "code",
   "execution_count": 20,
   "id": "q_PyFyyBRUu2",
   "metadata": {
    "colab": {
     "base_uri": "https://localhost:8080/"
    },
    "id": "q_PyFyyBRUu2",
    "outputId": "c1686f3e-d7fa-4a6f-b7f2-eb9bd68af071"
   },
   "outputs": [
    {
     "name": "stderr",
     "output_type": "stream",
     "text": [
      "Get the Redundancy: 100%|██████████████████████████████████████████████████████████| 510/510 [00:00<00:00, 5856.99it/s]\n"
     ]
    },
    {
     "name": "stdout",
     "output_type": "stream",
     "text": [
      "Wall time: 709 ms\n"
     ]
    },
    {
     "data": {
      "text/plain": [
       "0.00021794659723537864"
      ]
     },
     "execution_count": 20,
     "metadata": {},
     "output_type": "execute_result"
    }
   ],
   "source": [
    "%%time\n",
    "df['Redundancy'] = mts.Redundancy(df.cleaned_data, n = 10)\n",
    "df['Redundancy'].mean()"
   ]
  },
  {
   "cell_type": "code",
   "execution_count": 21,
   "id": "Y3oI-r9_RUu2",
   "metadata": {
    "colab": {
     "base_uri": "https://localhost:8080/"
    },
    "id": "Y3oI-r9_RUu2",
    "outputId": "1444b048-24b3-4255-96b1-a56803b9a7d9"
   },
   "outputs": [
    {
     "name": "stderr",
     "output_type": "stream",
     "text": [
      "Get the Specificity: 100%|███████████████████████████████████████████████████████████| 510/510 [00:17<00:00, 28.35it/s]"
     ]
    },
    {
     "name": "stdout",
     "output_type": "stream",
     "text": [
      "Wall time: 18.4 s\n"
     ]
    },
    {
     "name": "stderr",
     "output_type": "stream",
     "text": [
      "\n"
     ]
    },
    {
     "data": {
      "text/plain": [
       "0.12135347895305168"
      ]
     },
     "execution_count": 21,
     "metadata": {},
     "output_type": "execute_result"
    }
   ],
   "source": [
    "%%time\n",
    "df['Specificity'] = mts.Specificity(df.text)\n",
    "df['Specificity'].mean()"
   ]
  },
  {
   "cell_type": "code",
   "execution_count": 23,
   "id": "q694ZUAEUzYn",
   "metadata": {
    "colab": {
     "base_uri": "https://localhost:8080/"
    },
    "id": "q694ZUAEUzYn",
    "outputId": "3f754a89-bd35-4dba-ce76-aa30b183aff4"
   },
   "outputs": [
    {
     "data": {
      "text/plain": [
       "0.15676959619952494"
      ]
     },
     "execution_count": 23,
     "metadata": {},
     "output_type": "execute_result"
    }
   ],
   "source": [
    "import spacy\n",
    "ner = spacy.load('en_core_web_sm')\n",
    "len(ner(df.text[0]).ents)/len(df.text[0].split())"
   ]
  },
  {
   "cell_type": "code",
   "execution_count": 24,
   "id": "2JyE_v_wRUu3",
   "metadata": {
    "colab": {
     "base_uri": "https://localhost:8080/"
    },
    "id": "2JyE_v_wRUu3",
    "outputId": "f2c17c7f-df64-4af1-cb1c-1e3439c53cbe"
   },
   "outputs": [
    {
     "name": "stderr",
     "output_type": "stream",
     "text": [
      "Get the Relative_prevalence: 100%|█████████████████████████████████████████████████| 510/510 [00:00<00:00, 6839.74it/s]"
     ]
    },
    {
     "name": "stdout",
     "output_type": "stream",
     "text": [
      "Wall time: 77.1 ms\n"
     ]
    },
    {
     "name": "stderr",
     "output_type": "stream",
     "text": [
      "\n"
     ]
    },
    {
     "data": {
      "text/plain": [
       "0.006512135012418132"
      ]
     },
     "execution_count": 24,
     "metadata": {},
     "output_type": "execute_result"
    }
   ],
   "source": [
    "%%time\n",
    "df['Relative_prevalence'] = mts.Relative_prevalence(df.text)\n",
    "df['Relative_prevalence'].mean()"
   ]
  },
  {
   "cell_type": "code",
   "execution_count": 26,
   "id": "YmlOL5B6XBlL",
   "metadata": {
    "colab": {
     "base_uri": "https://localhost:8080/",
     "height": 424
    },
    "id": "YmlOL5B6XBlL",
    "outputId": "fe63844a-2cbc-49a8-8839-3eb2df5e42c3"
   },
   "outputs": [
    {
     "data": {
      "text/plain": [
       "<AxesSubplot:>"
      ]
     },
     "execution_count": 26,
     "metadata": {},
     "output_type": "execute_result"
    },
    {
     "data": {
      "image/png": "[encoded data removed]",
      "text/plain": [
       "<Figure size 432x288 with 1 Axes>"
      ]
     },
     "metadata": {
      "needs_background": "light"
     },
     "output_type": "display_data"
    }
   ],
   "source": [
    "df['Boilerplate'].hist()"
   ]
  },
  {
   "cell_type": "code",
   "execution_count": null,
   "id": "85857f91",
   "metadata": {},
   "outputs": [],
   "source": []
  }
 ],
 "metadata": {
  "colab": {
   "provenance": []
  },
  "kernelspec": {
   "display_name": "Python 3",
   "language": "python",
   "name": "python3"
  },
  "language_info": {
   "codemirror_mode": {
    "name": "ipython",
    "version": 3
   },
   "file_extension": ".py",
   "mimetype": "text/x-python",
   "name": "python",
   "nbconvert_exporter": "python",
   "pygments_lexer": "ipython3",
   "version": "3.8.8"
  }
 },
 "nbformat": 4,
 "nbformat_minor": 5
}
