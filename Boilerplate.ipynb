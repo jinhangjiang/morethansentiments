{
  "cells": [
    {
      "cell_type": "code",
      "execution_count": null,
      "metadata": {
        "colab": {
          "base_uri": "https://localhost:8080/"
        },
        "id": "KsTJ4r1URUus",
        "outputId": "ded0c0ad-4121-4ed9-a955-15eceab49cef"
      },
      "outputs": [
        {
          "output_type": "stream",
          "name": "stderr",
          "text": [
            "/usr/local/lib/python3.8/dist-packages/torch/cuda/__init__.py:497: UserWarning: Can't initialize NVML\n",
            "  warnings.warn(\"Can't initialize NVML\")\n"
          ]
        },
        {
          "output_type": "stream",
          "name": "stdout",
          "text": [
            "\u001b[38;5;2m✔ Download and installation successful\u001b[0m\n",
            "You can now load the package via spacy.load('en_core_web_sm')\n"
          ]
        }
      ],
      "source": [
        "import pandas as pd\n",
        "# import sys\n",
        "# sys.path.append('E:\\Package\\Boilerplate\\morethansentiments\\src')\n",
        "import MoreThanSentiments as mts"
      ],
      "id": "KsTJ4r1URUus"
    },
    {
      "cell_type": "code",
      "execution_count": 31,
      "metadata": {
        "id": "rhF-Q2h9RUuw",
        "outputId": "22942476-5587-44d7-80f6-626b9d3b9881",
        "colab": {
          "base_uri": "https://localhost:8080/"
        }
      },
      "outputs": [
        {
          "output_type": "stream",
          "name": "stdout",
          "text": [
            "\u001b[38;5;2m✔ Download and installation successful\u001b[0m\n",
            "You can now load the package via spacy.load('en_core_web_sm')\n"
          ]
        },
        {
          "output_type": "execute_result",
          "data": {
            "text/plain": [
              "<module 'MoreThanSentiments' from '/content/MoreThanSentiments.py'>"
            ]
          },
          "metadata": {},
          "execution_count": 31
        }
      ],
      "source": [
        "import importlib\n",
        "importlib.reload(mts)"
      ],
      "id": "rhF-Q2h9RUuw"
    },
    {
      "cell_type": "code",
      "execution_count": null,
      "metadata": {
        "colab": {
          "base_uri": "https://localhost:8080/",
          "height": 37
        },
        "id": "0yJ5TKbtRUuw",
        "outputId": "36ae2c6d-012a-4e0e-f56f-e06a630596f4"
      },
      "outputs": [
        {
          "output_type": "execute_result",
          "data": {
            "text/plain": [
              "'Lib is ready'"
            ],
            "application/vnd.google.colaboratory.intrinsic+json": {
              "type": "string"
            }
          },
          "metadata": {},
          "execution_count": 2
        }
      ],
      "source": [
        "mts.test_func()"
      ],
      "id": "0yJ5TKbtRUuw"
    },
    {
      "cell_type": "markdown",
      "metadata": {
        "id": "6IOX-sZBRUux"
      },
      "source": [
        "### Read Data"
      ],
      "id": "6IOX-sZBRUux"
    },
    {
      "cell_type": "code",
      "execution_count": 5,
      "metadata": {
        "id": "W0cTccxoRUuy"
      },
      "outputs": [],
      "source": [
        "my_dir_path = \"/content/business\""
      ],
      "id": "W0cTccxoRUuy"
    },
    {
      "cell_type": "code",
      "execution_count": 6,
      "metadata": {
        "colab": {
          "base_uri": "https://localhost:8080/",
          "height": 424
        },
        "id": "9m4nd_82RUuz",
        "outputId": "36e3ad1d-a020-4a63-bc1d-381c3f8689d2"
      },
      "outputs": [
        {
          "output_type": "display_data",
          "data": {
            "text/plain": [
              "    file_num                                               text\n",
              "0    247.txt  Renault boss hails 'great year'  Strong sales ...\n",
              "1    244.txt  Market unfazed by Aurora setback  As the Auror...\n",
              "2    184.txt  M&S cuts prices by average of 24%  Marks & Spe...\n",
              "3    278.txt  SBC plans post-takeover job cuts  US phone com...\n",
              "4    086.txt  Manufacturing recovery 'slowing'  UK manufactu...\n",
              "..       ...                                                ...\n",
              "505  219.txt  Rescue hope for Borussia Dortmund  Shares in s...\n",
              "506  426.txt  Minister hits out at Yukos sale  Russia's rena...\n",
              "507  510.txt  Lacroix label bought by US firm  Luxury goods ...\n",
              "508  345.txt  Quake's economic costs emerging  Asian governm...\n",
              "509  163.txt  US data sparks inflation worries  Wholesale pr...\n",
              "\n",
              "[510 rows x 2 columns]"
            ],
            "text/html": [
              "\n",
              "  <div id=\"df-2faf2187-6161-473c-a99f-041bb0977ef9\">\n",
              "    <div class=\"colab-df-container\">\n",
              "      <div>\n",
              "<style scoped>\n",
              "    .dataframe tbody tr th:only-of-type {\n",
              "        vertical-align: middle;\n",
              "    }\n",
              "\n",
              "    .dataframe tbody tr th {\n",
              "        vertical-align: top;\n",
              "    }\n",
              "\n",
              "    .dataframe thead th {\n",
              "        text-align: right;\n",
              "    }\n",
              "</style>\n",
              "<table border=\"1\" class=\"dataframe\">\n",
              "  <thead>\n",
              "    <tr style=\"text-align: right;\">\n",
              "      <th></th>\n",
              "      <th>file_num</th>\n",
              "      <th>text</th>\n",
              "    </tr>\n",
              "  </thead>\n",
              "  <tbody>\n",
              "    <tr>\n",
              "      <th>0</th>\n",
              "      <td>247.txt</td>\n",
              "      <td>Renault boss hails 'great year'  Strong sales ...</td>\n",
              "    </tr>\n",
              "    <tr>\n",
              "      <th>1</th>\n",
              "      <td>244.txt</td>\n",
              "      <td>Market unfazed by Aurora setback  As the Auror...</td>\n",
              "    </tr>\n",
              "    <tr>\n",
              "      <th>2</th>\n",
              "      <td>184.txt</td>\n",
              "      <td>M&amp;S cuts prices by average of 24%  Marks &amp; Spe...</td>\n",
              "    </tr>\n",
              "    <tr>\n",
              "      <th>3</th>\n",
              "      <td>278.txt</td>\n",
              "      <td>SBC plans post-takeover job cuts  US phone com...</td>\n",
              "    </tr>\n",
              "    <tr>\n",
              "      <th>4</th>\n",
              "      <td>086.txt</td>\n",
              "      <td>Manufacturing recovery 'slowing'  UK manufactu...</td>\n",
              "    </tr>\n",
              "    <tr>\n",
              "      <th>...</th>\n",
              "      <td>...</td>\n",
              "      <td>...</td>\n",
              "    </tr>\n",
              "    <tr>\n",
              "      <th>505</th>\n",
              "      <td>219.txt</td>\n",
              "      <td>Rescue hope for Borussia Dortmund  Shares in s...</td>\n",
              "    </tr>\n",
              "    <tr>\n",
              "      <th>506</th>\n",
              "      <td>426.txt</td>\n",
              "      <td>Minister hits out at Yukos sale  Russia's rena...</td>\n",
              "    </tr>\n",
              "    <tr>\n",
              "      <th>507</th>\n",
              "      <td>510.txt</td>\n",
              "      <td>Lacroix label bought by US firm  Luxury goods ...</td>\n",
              "    </tr>\n",
              "    <tr>\n",
              "      <th>508</th>\n",
              "      <td>345.txt</td>\n",
              "      <td>Quake's economic costs emerging  Asian governm...</td>\n",
              "    </tr>\n",
              "    <tr>\n",
              "      <th>509</th>\n",
              "      <td>163.txt</td>\n",
              "      <td>US data sparks inflation worries  Wholesale pr...</td>\n",
              "    </tr>\n",
              "  </tbody>\n",
              "</table>\n",
              "<p>510 rows × 2 columns</p>\n",
              "</div>\n",
              "      <button class=\"colab-df-convert\" onclick=\"convertToInteractive('df-2faf2187-6161-473c-a99f-041bb0977ef9')\"\n",
              "              title=\"Convert this dataframe to an interactive table.\"\n",
              "              style=\"display:none;\">\n",
              "        \n",
              "  <svg xmlns=\"http://www.w3.org/2000/svg\" height=\"24px\"viewBox=\"0 0 24 24\"\n",
              "       width=\"24px\">\n",
              "    <path d=\"M0 0h24v24H0V0z\" fill=\"none\"/>\n",
              "    <path d=\"M18.56 5.44l.94 2.06.94-2.06 2.06-.94-2.06-.94-.94-2.06-.94 2.06-2.06.94zm-11 1L8.5 8.5l.94-2.06 2.06-.94-2.06-.94L8.5 2.5l-.94 2.06-2.06.94zm10 10l.94 2.06.94-2.06 2.06-.94-2.06-.94-.94-2.06-.94 2.06-2.06.94z\"/><path d=\"M17.41 7.96l-1.37-1.37c-.4-.4-.92-.59-1.43-.59-.52 0-1.04.2-1.43.59L10.3 9.45l-7.72 7.72c-.78.78-.78 2.05 0 2.83L4 21.41c.39.39.9.59 1.41.59.51 0 1.02-.2 1.41-.59l7.78-7.78 2.81-2.81c.8-.78.8-2.07 0-2.86zM5.41 20L4 18.59l7.72-7.72 1.47 1.35L5.41 20z\"/>\n",
              "  </svg>\n",
              "      </button>\n",
              "      \n",
              "  <style>\n",
              "    .colab-df-container {\n",
              "      display:flex;\n",
              "      flex-wrap:wrap;\n",
              "      gap: 12px;\n",
              "    }\n",
              "\n",
              "    .colab-df-convert {\n",
              "      background-color: #E8F0FE;\n",
              "      border: none;\n",
              "      border-radius: 50%;\n",
              "      cursor: pointer;\n",
              "      display: none;\n",
              "      fill: #1967D2;\n",
              "      height: 32px;\n",
              "      padding: 0 0 0 0;\n",
              "      width: 32px;\n",
              "    }\n",
              "\n",
              "    .colab-df-convert:hover {\n",
              "      background-color: #E2EBFA;\n",
              "      box-shadow: 0px 1px 2px rgba(60, 64, 67, 0.3), 0px 1px 3px 1px rgba(60, 64, 67, 0.15);\n",
              "      fill: #174EA6;\n",
              "    }\n",
              "\n",
              "    [theme=dark] .colab-df-convert {\n",
              "      background-color: #3B4455;\n",
              "      fill: #D2E3FC;\n",
              "    }\n",
              "\n",
              "    [theme=dark] .colab-df-convert:hover {\n",
              "      background-color: #434B5C;\n",
              "      box-shadow: 0px 1px 3px 1px rgba(0, 0, 0, 0.15);\n",
              "      filter: drop-shadow(0px 1px 2px rgba(0, 0, 0, 0.3));\n",
              "      fill: #FFFFFF;\n",
              "    }\n",
              "  </style>\n",
              "\n",
              "      <script>\n",
              "        const buttonEl =\n",
              "          document.querySelector('#df-2faf2187-6161-473c-a99f-041bb0977ef9 button.colab-df-convert');\n",
              "        buttonEl.style.display =\n",
              "          google.colab.kernel.accessAllowed ? 'block' : 'none';\n",
              "\n",
              "        async function convertToInteractive(key) {\n",
              "          const element = document.querySelector('#df-2faf2187-6161-473c-a99f-041bb0977ef9');\n",
              "          const dataTable =\n",
              "            await google.colab.kernel.invokeFunction('convertToInteractive',\n",
              "                                                     [key], {});\n",
              "          if (!dataTable) return;\n",
              "\n",
              "          const docLinkHtml = 'Like what you see? Visit the ' +\n",
              "            '<a target=\"_blank\" href=https://colab.research.google.com/notebooks/data_table.ipynb>data table notebook</a>'\n",
              "            + ' to learn more about interactive tables.';\n",
              "          element.innerHTML = '';\n",
              "          dataTable['output_type'] = 'display_data';\n",
              "          await google.colab.output.renderOutput(dataTable, element);\n",
              "          const docLink = document.createElement('div');\n",
              "          docLink.innerHTML = docLinkHtml;\n",
              "          element.appendChild(docLink);\n",
              "        }\n",
              "      </script>\n",
              "    </div>\n",
              "  </div>\n",
              "  "
            ]
          },
          "metadata": {}
        }
      ],
      "source": [
        "df = mts.read_txt_files(PATH = my_dir_path)\n",
        "display(df)"
      ],
      "id": "9m4nd_82RUuz"
    },
    {
      "cell_type": "markdown",
      "metadata": {
        "id": "emRyY264RUuz"
      },
      "source": [
        "### Preprocess data"
      ],
      "id": "emRyY264RUuz"
    },
    {
      "cell_type": "code",
      "source": [
        "import nltk\n",
        "nltk.download('punkt')"
      ],
      "metadata": {
        "colab": {
          "base_uri": "https://localhost:8080/"
        },
        "id": "TPTnCsAqTj_S",
        "outputId": "88ed2cb8-39cc-4dd8-c8d5-94b355c53845"
      },
      "id": "TPTnCsAqTj_S",
      "execution_count": 8,
      "outputs": [
        {
          "output_type": "stream",
          "name": "stderr",
          "text": [
            "[nltk_data] Downloading package punkt to /root/nltk_data...\n",
            "[nltk_data]   Unzipping tokenizers/punkt.zip.\n"
          ]
        },
        {
          "output_type": "execute_result",
          "data": {
            "text/plain": [
              "True"
            ]
          },
          "metadata": {},
          "execution_count": 8
        }
      ]
    },
    {
      "cell_type": "code",
      "execution_count": 9,
      "metadata": {
        "id": "a6-KuagaRUu0"
      },
      "outputs": [],
      "source": [
        "df['sent_tok'] = df.text.apply(mts.sent_tok)"
      ],
      "id": "a6-KuagaRUu0"
    },
    {
      "cell_type": "code",
      "execution_count": 10,
      "metadata": {
        "id": "m5CsGX-CRUu0"
      },
      "outputs": [],
      "source": [
        "df['cleaned_data'] = pd.Series()    \n",
        "for i in range(len(df['sent_tok'])):\n",
        "    df['cleaned_data'][i] = [mts.clean_data(x,\\\n",
        "                                            lower = True,\\\n",
        "                                            punctuations=True,\\\n",
        "                                            number=False,\\\n",
        "                                            unicode=True,\\\n",
        "                                            stop_words=False) for x in df['sent_tok'][i]] "
      ],
      "id": "m5CsGX-CRUu0"
    },
    {
      "cell_type": "code",
      "execution_count": 11,
      "metadata": {
        "scrolled": false,
        "id": "9Dy6QsajRUu1",
        "outputId": "566a5b8c-74b4-4993-9efc-95903dd29616",
        "colab": {
          "base_uri": "https://localhost:8080/",
          "height": 162
        }
      },
      "outputs": [
        {
          "output_type": "stream",
          "name": "stderr",
          "text": [
            "Get the Boilerplate: 100%|██████████| 510/510 [00:00<00:00, 3394.89it/s]\n",
            "Get the Length of Sentence: 100%|██████████| 510/510 [00:00<00:00, 27788.03it/s]\n",
            "Flag the Sentence: 100%|██████████| 510/510 [00:00<00:00, 6649.18it/s]\n"
          ]
        },
        {
          "output_type": "display_data",
          "data": {
            "text/plain": [
              "'======================== Boilerplate Calculation Started ========================='"
            ],
            "application/vnd.google.colaboratory.intrinsic+json": {
              "type": "string"
            }
          },
          "metadata": {}
        },
        {
          "output_type": "display_data",
          "data": {
            "text/plain": [
              "'======================== Boilerplate Calculation Finished ========================'"
            ],
            "application/vnd.google.colaboratory.intrinsic+json": {
              "type": "string"
            }
          },
          "metadata": {}
        },
        {
          "output_type": "stream",
          "name": "stdout",
          "text": [
            "CPU times: user 1.75 s, sys: 65.2 ms, total: 1.81 s\n",
            "Wall time: 1.84 s\n"
          ]
        },
        {
          "output_type": "execute_result",
          "data": {
            "text/plain": [
              "0.00536274474486886"
            ]
          },
          "metadata": {},
          "execution_count": 11
        }
      ],
      "source": [
        "%%time\n",
        "df['Boilerplate'] = mts.Boilerplate(df.cleaned_data, n = 4, min_doc = 30, get_ngram = False)\n",
        "df['Boilerplate'].mean()"
      ],
      "id": "9Dy6QsajRUu1"
    },
    {
      "cell_type": "code",
      "execution_count": 12,
      "metadata": {
        "id": "RWeFIWnORUu1",
        "outputId": "b8c13fef-289c-40b6-a3c0-02dba8589426",
        "colab": {
          "base_uri": "https://localhost:8080/",
          "height": 127
        }
      },
      "outputs": [
        {
          "output_type": "stream",
          "name": "stderr",
          "text": [
            "Get the Boilerplate: 100%|██████████| 510/510 [00:00<00:00, 3090.74it/s]\n",
            "Get the Length of Sentence: 100%|██████████| 510/510 [00:00<00:00, 22637.84it/s]\n",
            "Flag the Sentence: 100%|██████████| 510/510 [00:00<00:00, 6136.37it/s]\n"
          ]
        },
        {
          "output_type": "display_data",
          "data": {
            "text/plain": [
              "'======================== Boilerplate Calculation Started ========================='"
            ],
            "application/vnd.google.colaboratory.intrinsic+json": {
              "type": "string"
            }
          },
          "metadata": {}
        },
        {
          "output_type": "display_data",
          "data": {
            "text/plain": [
              "'======================== Boilerplate Calculation Finished ========================'"
            ],
            "application/vnd.google.colaboratory.intrinsic+json": {
              "type": "string"
            }
          },
          "metadata": {}
        },
        {
          "output_type": "execute_result",
          "data": {
            "text/plain": [
              "0.00536274474486886"
            ]
          },
          "metadata": {},
          "execution_count": 12
        }
      ],
      "source": [
        "df['Boilerplate'] = mts.Boilerplate(df.cleaned_data, n = 4, min_doc = 0.058, get_ngram = False)\n",
        "df['Boilerplate'].mean()"
      ],
      "id": "RWeFIWnORUu1"
    },
    {
      "cell_type": "code",
      "execution_count": 13,
      "metadata": {
        "id": "X6Bdc7hrRUu2",
        "outputId": "a39e6cba-1c1c-4dd1-ab19-8dddc184fb64",
        "colab": {
          "base_uri": "https://localhost:8080/",
          "height": 441
        }
      },
      "outputs": [
        {
          "output_type": "stream",
          "name": "stderr",
          "text": [
            "Get the Boilerplate: 100%|██████████| 510/510 [00:00<00:00, 3813.06it/s]\n"
          ]
        },
        {
          "output_type": "execute_result",
          "data": {
            "text/plain": [
              "                                  unique_ngrams  counts\n",
              "0                      (said, in, a, statement)      32\n",
              "1                       (for, the, first, time)      19\n",
              "2                      (the, bank, of, england)      19\n",
              "3       (securities, and, exchange, commission)      19\n",
              "4                            (by, the, end, of)      18\n",
              "...                                         ...     ...\n",
              "131836                (from, mr, glazer, which)       1\n",
              "131837                   (from, mr, ghosn, who)       1\n",
              "131838                  (from, mr, blair, more)       1\n",
              "131839                    (from, more, than, 3)       1\n",
              "131840          (zurich, financial, said, they)       1\n",
              "\n",
              "[131841 rows x 2 columns]"
            ],
            "text/html": [
              "\n",
              "  <div id=\"df-ab4db9eb-d604-4ceb-b92f-5078b91731e8\">\n",
              "    <div class=\"colab-df-container\">\n",
              "      <div>\n",
              "<style scoped>\n",
              "    .dataframe tbody tr th:only-of-type {\n",
              "        vertical-align: middle;\n",
              "    }\n",
              "\n",
              "    .dataframe tbody tr th {\n",
              "        vertical-align: top;\n",
              "    }\n",
              "\n",
              "    .dataframe thead th {\n",
              "        text-align: right;\n",
              "    }\n",
              "</style>\n",
              "<table border=\"1\" class=\"dataframe\">\n",
              "  <thead>\n",
              "    <tr style=\"text-align: right;\">\n",
              "      <th></th>\n",
              "      <th>unique_ngrams</th>\n",
              "      <th>counts</th>\n",
              "    </tr>\n",
              "  </thead>\n",
              "  <tbody>\n",
              "    <tr>\n",
              "      <th>0</th>\n",
              "      <td>(said, in, a, statement)</td>\n",
              "      <td>32</td>\n",
              "    </tr>\n",
              "    <tr>\n",
              "      <th>1</th>\n",
              "      <td>(for, the, first, time)</td>\n",
              "      <td>19</td>\n",
              "    </tr>\n",
              "    <tr>\n",
              "      <th>2</th>\n",
              "      <td>(the, bank, of, england)</td>\n",
              "      <td>19</td>\n",
              "    </tr>\n",
              "    <tr>\n",
              "      <th>3</th>\n",
              "      <td>(securities, and, exchange, commission)</td>\n",
              "      <td>19</td>\n",
              "    </tr>\n",
              "    <tr>\n",
              "      <th>4</th>\n",
              "      <td>(by, the, end, of)</td>\n",
              "      <td>18</td>\n",
              "    </tr>\n",
              "    <tr>\n",
              "      <th>...</th>\n",
              "      <td>...</td>\n",
              "      <td>...</td>\n",
              "    </tr>\n",
              "    <tr>\n",
              "      <th>131836</th>\n",
              "      <td>(from, mr, glazer, which)</td>\n",
              "      <td>1</td>\n",
              "    </tr>\n",
              "    <tr>\n",
              "      <th>131837</th>\n",
              "      <td>(from, mr, ghosn, who)</td>\n",
              "      <td>1</td>\n",
              "    </tr>\n",
              "    <tr>\n",
              "      <th>131838</th>\n",
              "      <td>(from, mr, blair, more)</td>\n",
              "      <td>1</td>\n",
              "    </tr>\n",
              "    <tr>\n",
              "      <th>131839</th>\n",
              "      <td>(from, more, than, 3)</td>\n",
              "      <td>1</td>\n",
              "    </tr>\n",
              "    <tr>\n",
              "      <th>131840</th>\n",
              "      <td>(zurich, financial, said, they)</td>\n",
              "      <td>1</td>\n",
              "    </tr>\n",
              "  </tbody>\n",
              "</table>\n",
              "<p>131841 rows × 2 columns</p>\n",
              "</div>\n",
              "      <button class=\"colab-df-convert\" onclick=\"convertToInteractive('df-ab4db9eb-d604-4ceb-b92f-5078b91731e8')\"\n",
              "              title=\"Convert this dataframe to an interactive table.\"\n",
              "              style=\"display:none;\">\n",
              "        \n",
              "  <svg xmlns=\"http://www.w3.org/2000/svg\" height=\"24px\"viewBox=\"0 0 24 24\"\n",
              "       width=\"24px\">\n",
              "    <path d=\"M0 0h24v24H0V0z\" fill=\"none\"/>\n",
              "    <path d=\"M18.56 5.44l.94 2.06.94-2.06 2.06-.94-2.06-.94-.94-2.06-.94 2.06-2.06.94zm-11 1L8.5 8.5l.94-2.06 2.06-.94-2.06-.94L8.5 2.5l-.94 2.06-2.06.94zm10 10l.94 2.06.94-2.06 2.06-.94-2.06-.94-.94-2.06-.94 2.06-2.06.94z\"/><path d=\"M17.41 7.96l-1.37-1.37c-.4-.4-.92-.59-1.43-.59-.52 0-1.04.2-1.43.59L10.3 9.45l-7.72 7.72c-.78.78-.78 2.05 0 2.83L4 21.41c.39.39.9.59 1.41.59.51 0 1.02-.2 1.41-.59l7.78-7.78 2.81-2.81c.8-.78.8-2.07 0-2.86zM5.41 20L4 18.59l7.72-7.72 1.47 1.35L5.41 20z\"/>\n",
              "  </svg>\n",
              "      </button>\n",
              "      \n",
              "  <style>\n",
              "    .colab-df-container {\n",
              "      display:flex;\n",
              "      flex-wrap:wrap;\n",
              "      gap: 12px;\n",
              "    }\n",
              "\n",
              "    .colab-df-convert {\n",
              "      background-color: #E8F0FE;\n",
              "      border: none;\n",
              "      border-radius: 50%;\n",
              "      cursor: pointer;\n",
              "      display: none;\n",
              "      fill: #1967D2;\n",
              "      height: 32px;\n",
              "      padding: 0 0 0 0;\n",
              "      width: 32px;\n",
              "    }\n",
              "\n",
              "    .colab-df-convert:hover {\n",
              "      background-color: #E2EBFA;\n",
              "      box-shadow: 0px 1px 2px rgba(60, 64, 67, 0.3), 0px 1px 3px 1px rgba(60, 64, 67, 0.15);\n",
              "      fill: #174EA6;\n",
              "    }\n",
              "\n",
              "    [theme=dark] .colab-df-convert {\n",
              "      background-color: #3B4455;\n",
              "      fill: #D2E3FC;\n",
              "    }\n",
              "\n",
              "    [theme=dark] .colab-df-convert:hover {\n",
              "      background-color: #434B5C;\n",
              "      box-shadow: 0px 1px 3px 1px rgba(0, 0, 0, 0.15);\n",
              "      filter: drop-shadow(0px 1px 2px rgba(0, 0, 0, 0.3));\n",
              "      fill: #FFFFFF;\n",
              "    }\n",
              "  </style>\n",
              "\n",
              "      <script>\n",
              "        const buttonEl =\n",
              "          document.querySelector('#df-ab4db9eb-d604-4ceb-b92f-5078b91731e8 button.colab-df-convert');\n",
              "        buttonEl.style.display =\n",
              "          google.colab.kernel.accessAllowed ? 'block' : 'none';\n",
              "\n",
              "        async function convertToInteractive(key) {\n",
              "          const element = document.querySelector('#df-ab4db9eb-d604-4ceb-b92f-5078b91731e8');\n",
              "          const dataTable =\n",
              "            await google.colab.kernel.invokeFunction('convertToInteractive',\n",
              "                                                     [key], {});\n",
              "          if (!dataTable) return;\n",
              "\n",
              "          const docLinkHtml = 'Like what you see? Visit the ' +\n",
              "            '<a target=\"_blank\" href=https://colab.research.google.com/notebooks/data_table.ipynb>data table notebook</a>'\n",
              "            + ' to learn more about interactive tables.';\n",
              "          element.innerHTML = '';\n",
              "          dataTable['output_type'] = 'display_data';\n",
              "          await google.colab.output.renderOutput(dataTable, element);\n",
              "          const docLink = document.createElement('div');\n",
              "          docLink.innerHTML = docLinkHtml;\n",
              "          element.appendChild(docLink);\n",
              "        }\n",
              "      </script>\n",
              "    </div>\n",
              "  </div>\n",
              "  "
            ]
          },
          "metadata": {},
          "execution_count": 13
        }
      ],
      "source": [
        "ngram_list = mts.Boilerplate(df.cleaned_data, n = 4, min_doc = 30, get_ngram = True)\n",
        "ngram_list"
      ],
      "id": "X6Bdc7hrRUu2"
    },
    {
      "cell_type": "code",
      "execution_count": 14,
      "metadata": {
        "id": "q_PyFyyBRUu2",
        "outputId": "c1686f3e-d7fa-4a6f-b7f2-eb9bd68af071",
        "colab": {
          "base_uri": "https://localhost:8080/"
        }
      },
      "outputs": [
        {
          "output_type": "stream",
          "name": "stderr",
          "text": [
            "Get the Redundancy: 100%|██████████| 510/510 [00:00<00:00, 975.46it/s]\n"
          ]
        },
        {
          "output_type": "stream",
          "name": "stdout",
          "text": [
            "CPU times: user 1.76 s, sys: 44.6 ms, total: 1.8 s\n",
            "Wall time: 1.85 s\n"
          ]
        },
        {
          "output_type": "execute_result",
          "data": {
            "text/plain": [
              "0.00021794659723537864"
            ]
          },
          "metadata": {},
          "execution_count": 14
        }
      ],
      "source": [
        "%%time\n",
        "df['Redundancy'] = mts.Redundancy(df.cleaned_data, n = 10)\n",
        "df['Redundancy'].mean()"
      ],
      "id": "q_PyFyyBRUu2"
    },
    {
      "cell_type": "code",
      "execution_count": 24,
      "metadata": {
        "id": "Y3oI-r9_RUu2",
        "outputId": "1444b048-24b3-4255-96b1-a56803b9a7d9",
        "colab": {
          "base_uri": "https://localhost:8080/"
        }
      },
      "outputs": [
        {
          "output_type": "stream",
          "name": "stderr",
          "text": [
            "Get the Specificity: 100%|██████████| 510/510 [00:37<00:00, 13.64it/s]"
          ]
        },
        {
          "output_type": "stream",
          "name": "stdout",
          "text": [
            "CPU times: user 37.3 s, sys: 587 ms, total: 37.9 s\n",
            "Wall time: 38.4 s\n"
          ]
        },
        {
          "output_type": "stream",
          "name": "stderr",
          "text": [
            "\n"
          ]
        },
        {
          "output_type": "execute_result",
          "data": {
            "text/plain": [
              "0.1272459978891029"
            ]
          },
          "metadata": {},
          "execution_count": 24
        }
      ],
      "source": [
        "%%time\n",
        "df['Specificity'] = mts.Specificity(df.text)\n",
        "df['Specificity'].mean()"
      ],
      "id": "Y3oI-r9_RUu2"
    },
    {
      "cell_type": "code",
      "source": [
        "ner = spacy.load('en_core_web_sm')\n",
        "len(ner(df.text[0]).ents)/len(df.text[0].split())"
      ],
      "metadata": {
        "colab": {
          "base_uri": "https://localhost:8080/"
        },
        "id": "q694ZUAEUzYn",
        "outputId": "3f754a89-bd35-4dba-ce76-aa30b183aff4"
      },
      "id": "q694ZUAEUzYn",
      "execution_count": 22,
      "outputs": [
        {
          "output_type": "execute_result",
          "data": {
            "text/plain": [
              "0.18726591760299627"
            ]
          },
          "metadata": {},
          "execution_count": 22
        }
      ]
    },
    {
      "cell_type": "code",
      "execution_count": 25,
      "metadata": {
        "id": "2JyE_v_wRUu3",
        "outputId": "f2c17c7f-df64-4af1-cb1c-1e3439c53cbe",
        "colab": {
          "base_uri": "https://localhost:8080/"
        }
      },
      "outputs": [
        {
          "output_type": "stream",
          "name": "stderr",
          "text": [
            "Get the Relative_prevalence: 100%|██████████| 510/510 [00:00<00:00, 1262.85it/s]"
          ]
        },
        {
          "output_type": "stream",
          "name": "stdout",
          "text": [
            "CPU times: user 248 ms, sys: 2.57 ms, total: 250 ms\n",
            "Wall time: 423 ms\n"
          ]
        },
        {
          "output_type": "stream",
          "name": "stderr",
          "text": [
            "\n"
          ]
        },
        {
          "output_type": "execute_result",
          "data": {
            "text/plain": [
              "0.006512135012418136"
            ]
          },
          "metadata": {},
          "execution_count": 25
        }
      ],
      "source": [
        "%%time\n",
        "df['Relative_prevalence'] = mts.Relative_prevalence(df.text)\n",
        "df['Relative_prevalence'].mean()"
      ],
      "id": "2JyE_v_wRUu3"
    },
    {
      "cell_type": "code",
      "source": [
        "df"
      ],
      "metadata": {
        "colab": {
          "base_uri": "https://localhost:8080/",
          "height": 424
        },
        "id": "YmlOL5B6XBlL",
        "outputId": "fe63844a-2cbc-49a8-8839-3eb2df5e42c3"
      },
      "id": "YmlOL5B6XBlL",
      "execution_count": 26,
      "outputs": [
        {
          "output_type": "execute_result",
          "data": {
            "text/plain": [
              "    file_num                                               text  \\\n",
              "0    247.txt  Renault boss hails 'great year'  Strong sales ...   \n",
              "1    244.txt  Market unfazed by Aurora setback  As the Auror...   \n",
              "2    184.txt  M&S cuts prices by average of 24%  Marks & Spe...   \n",
              "3    278.txt  SBC plans post-takeover job cuts  US phone com...   \n",
              "4    086.txt  Manufacturing recovery 'slowing'  UK manufactu...   \n",
              "..       ...                                                ...   \n",
              "505  219.txt  Rescue hope for Borussia Dortmund  Shares in s...   \n",
              "506  426.txt  Minister hits out at Yukos sale  Russia's rena...   \n",
              "507  510.txt  Lacroix label bought by US firm  Luxury goods ...   \n",
              "508  345.txt  Quake's economic costs emerging  Asian governm...   \n",
              "509  163.txt  US data sparks inflation worries  Wholesale pr...   \n",
              "\n",
              "                                              sent_tok  \\\n",
              "0    [Renault boss hails 'great year'  Strong sales...   \n",
              "1    [Market unfazed by Aurora setback  As the Auro...   \n",
              "2    [M&S cuts prices by average of 24%  Marks & Sp...   \n",
              "3    [SBC plans post-takeover job cuts  US phone co...   \n",
              "4    [Manufacturing recovery 'slowing'  UK manufact...   \n",
              "..                                                 ...   \n",
              "505  [Rescue hope for Borussia Dortmund  Shares in ...   \n",
              "506  [Minister hits out at Yukos sale  Russia's ren...   \n",
              "507  [Lacroix label bought by US firm  Luxury goods...   \n",
              "508  [Quake's economic costs emerging  Asian govern...   \n",
              "509  [US data sparks inflation worries  Wholesale p...   \n",
              "\n",
              "                                          cleaned_data  Boilerplate  \\\n",
              "0    [renault boss hails great year  strong sales o...     0.114068   \n",
              "1    [market unfazed by aurora setback  as the auro...     0.000000   \n",
              "2    [ms cuts prices by average of 24  marks  spenc...     0.000000   \n",
              "3    [sbc plans posttakeover job cuts  us phone com...     0.000000   \n",
              "4    [manufacturing recovery slowing  uk manufactur...     0.000000   \n",
              "..                                                 ...          ...   \n",
              "505  [rescue hope for borussia dortmund  shares in ...     0.000000   \n",
              "506  [minister hits out at yukos sale  russias rena...     0.000000   \n",
              "507  [lacroix label bought by us firm  luxury goods...     0.000000   \n",
              "508  [quakes economic costs emerging  asian governm...     0.000000   \n",
              "509  [us data sparks inflation worries  wholesale p...     0.000000   \n",
              "\n",
              "     Redundancy  Specificity  Relative_prevalence  \n",
              "0           0.0     0.187266             0.007491  \n",
              "1           0.0     0.103792             0.007984  \n",
              "2           0.0     0.129683             0.002882  \n",
              "3           0.0     0.146597             0.010471  \n",
              "4           0.0     0.104712             0.005236  \n",
              "..          ...          ...                  ...  \n",
              "505         0.0     0.132576             0.007576  \n",
              "506         0.0     0.087591             0.002433  \n",
              "507         0.0     0.133333             0.013333  \n",
              "508         0.0     0.100000             0.004651  \n",
              "509         0.0     0.106576             0.002268  \n",
              "\n",
              "[510 rows x 8 columns]"
            ],
            "text/html": [
              "\n",
              "  <div id=\"df-ccb3f239-b410-4372-9890-87271700e60a\">\n",
              "    <div class=\"colab-df-container\">\n",
              "      <div>\n",
              "<style scoped>\n",
              "    .dataframe tbody tr th:only-of-type {\n",
              "        vertical-align: middle;\n",
              "    }\n",
              "\n",
              "    .dataframe tbody tr th {\n",
              "        vertical-align: top;\n",
              "    }\n",
              "\n",
              "    .dataframe thead th {\n",
              "        text-align: right;\n",
              "    }\n",
              "</style>\n",
              "<table border=\"1\" class=\"dataframe\">\n",
              "  <thead>\n",
              "    <tr style=\"text-align: right;\">\n",
              "      <th></th>\n",
              "      <th>file_num</th>\n",
              "      <th>text</th>\n",
              "      <th>sent_tok</th>\n",
              "      <th>cleaned_data</th>\n",
              "      <th>Boilerplate</th>\n",
              "      <th>Redundancy</th>\n",
              "      <th>Specificity</th>\n",
              "      <th>Relative_prevalence</th>\n",
              "    </tr>\n",
              "  </thead>\n",
              "  <tbody>\n",
              "    <tr>\n",
              "      <th>0</th>\n",
              "      <td>247.txt</td>\n",
              "      <td>Renault boss hails 'great year'  Strong sales ...</td>\n",
              "      <td>[Renault boss hails 'great year'  Strong sales...</td>\n",
              "      <td>[renault boss hails great year  strong sales o...</td>\n",
              "      <td>0.114068</td>\n",
              "      <td>0.0</td>\n",
              "      <td>0.187266</td>\n",
              "      <td>0.007491</td>\n",
              "    </tr>\n",
              "    <tr>\n",
              "      <th>1</th>\n",
              "      <td>244.txt</td>\n",
              "      <td>Market unfazed by Aurora setback  As the Auror...</td>\n",
              "      <td>[Market unfazed by Aurora setback  As the Auro...</td>\n",
              "      <td>[market unfazed by aurora setback  as the auro...</td>\n",
              "      <td>0.000000</td>\n",
              "      <td>0.0</td>\n",
              "      <td>0.103792</td>\n",
              "      <td>0.007984</td>\n",
              "    </tr>\n",
              "    <tr>\n",
              "      <th>2</th>\n",
              "      <td>184.txt</td>\n",
              "      <td>M&amp;S cuts prices by average of 24%  Marks &amp; Spe...</td>\n",
              "      <td>[M&amp;S cuts prices by average of 24%  Marks &amp; Sp...</td>\n",
              "      <td>[ms cuts prices by average of 24  marks  spenc...</td>\n",
              "      <td>0.000000</td>\n",
              "      <td>0.0</td>\n",
              "      <td>0.129683</td>\n",
              "      <td>0.002882</td>\n",
              "    </tr>\n",
              "    <tr>\n",
              "      <th>3</th>\n",
              "      <td>278.txt</td>\n",
              "      <td>SBC plans post-takeover job cuts  US phone com...</td>\n",
              "      <td>[SBC plans post-takeover job cuts  US phone co...</td>\n",
              "      <td>[sbc plans posttakeover job cuts  us phone com...</td>\n",
              "      <td>0.000000</td>\n",
              "      <td>0.0</td>\n",
              "      <td>0.146597</td>\n",
              "      <td>0.010471</td>\n",
              "    </tr>\n",
              "    <tr>\n",
              "      <th>4</th>\n",
              "      <td>086.txt</td>\n",
              "      <td>Manufacturing recovery 'slowing'  UK manufactu...</td>\n",
              "      <td>[Manufacturing recovery 'slowing'  UK manufact...</td>\n",
              "      <td>[manufacturing recovery slowing  uk manufactur...</td>\n",
              "      <td>0.000000</td>\n",
              "      <td>0.0</td>\n",
              "      <td>0.104712</td>\n",
              "      <td>0.005236</td>\n",
              "    </tr>\n",
              "    <tr>\n",
              "      <th>...</th>\n",
              "      <td>...</td>\n",
              "      <td>...</td>\n",
              "      <td>...</td>\n",
              "      <td>...</td>\n",
              "      <td>...</td>\n",
              "      <td>...</td>\n",
              "      <td>...</td>\n",
              "      <td>...</td>\n",
              "    </tr>\n",
              "    <tr>\n",
              "      <th>505</th>\n",
              "      <td>219.txt</td>\n",
              "      <td>Rescue hope for Borussia Dortmund  Shares in s...</td>\n",
              "      <td>[Rescue hope for Borussia Dortmund  Shares in ...</td>\n",
              "      <td>[rescue hope for borussia dortmund  shares in ...</td>\n",
              "      <td>0.000000</td>\n",
              "      <td>0.0</td>\n",
              "      <td>0.132576</td>\n",
              "      <td>0.007576</td>\n",
              "    </tr>\n",
              "    <tr>\n",
              "      <th>506</th>\n",
              "      <td>426.txt</td>\n",
              "      <td>Minister hits out at Yukos sale  Russia's rena...</td>\n",
              "      <td>[Minister hits out at Yukos sale  Russia's ren...</td>\n",
              "      <td>[minister hits out at yukos sale  russias rena...</td>\n",
              "      <td>0.000000</td>\n",
              "      <td>0.0</td>\n",
              "      <td>0.087591</td>\n",
              "      <td>0.002433</td>\n",
              "    </tr>\n",
              "    <tr>\n",
              "      <th>507</th>\n",
              "      <td>510.txt</td>\n",
              "      <td>Lacroix label bought by US firm  Luxury goods ...</td>\n",
              "      <td>[Lacroix label bought by US firm  Luxury goods...</td>\n",
              "      <td>[lacroix label bought by us firm  luxury goods...</td>\n",
              "      <td>0.000000</td>\n",
              "      <td>0.0</td>\n",
              "      <td>0.133333</td>\n",
              "      <td>0.013333</td>\n",
              "    </tr>\n",
              "    <tr>\n",
              "      <th>508</th>\n",
              "      <td>345.txt</td>\n",
              "      <td>Quake's economic costs emerging  Asian governm...</td>\n",
              "      <td>[Quake's economic costs emerging  Asian govern...</td>\n",
              "      <td>[quakes economic costs emerging  asian governm...</td>\n",
              "      <td>0.000000</td>\n",
              "      <td>0.0</td>\n",
              "      <td>0.100000</td>\n",
              "      <td>0.004651</td>\n",
              "    </tr>\n",
              "    <tr>\n",
              "      <th>509</th>\n",
              "      <td>163.txt</td>\n",
              "      <td>US data sparks inflation worries  Wholesale pr...</td>\n",
              "      <td>[US data sparks inflation worries  Wholesale p...</td>\n",
              "      <td>[us data sparks inflation worries  wholesale p...</td>\n",
              "      <td>0.000000</td>\n",
              "      <td>0.0</td>\n",
              "      <td>0.106576</td>\n",
              "      <td>0.002268</td>\n",
              "    </tr>\n",
              "  </tbody>\n",
              "</table>\n",
              "<p>510 rows × 8 columns</p>\n",
              "</div>\n",
              "      <button class=\"colab-df-convert\" onclick=\"convertToInteractive('df-ccb3f239-b410-4372-9890-87271700e60a')\"\n",
              "              title=\"Convert this dataframe to an interactive table.\"\n",
              "              style=\"display:none;\">\n",
              "        \n",
              "  <svg xmlns=\"http://www.w3.org/2000/svg\" height=\"24px\"viewBox=\"0 0 24 24\"\n",
              "       width=\"24px\">\n",
              "    <path d=\"M0 0h24v24H0V0z\" fill=\"none\"/>\n",
              "    <path d=\"M18.56 5.44l.94 2.06.94-2.06 2.06-.94-2.06-.94-.94-2.06-.94 2.06-2.06.94zm-11 1L8.5 8.5l.94-2.06 2.06-.94-2.06-.94L8.5 2.5l-.94 2.06-2.06.94zm10 10l.94 2.06.94-2.06 2.06-.94-2.06-.94-.94-2.06-.94 2.06-2.06.94z\"/><path d=\"M17.41 7.96l-1.37-1.37c-.4-.4-.92-.59-1.43-.59-.52 0-1.04.2-1.43.59L10.3 9.45l-7.72 7.72c-.78.78-.78 2.05 0 2.83L4 21.41c.39.39.9.59 1.41.59.51 0 1.02-.2 1.41-.59l7.78-7.78 2.81-2.81c.8-.78.8-2.07 0-2.86zM5.41 20L4 18.59l7.72-7.72 1.47 1.35L5.41 20z\"/>\n",
              "  </svg>\n",
              "      </button>\n",
              "      \n",
              "  <style>\n",
              "    .colab-df-container {\n",
              "      display:flex;\n",
              "      flex-wrap:wrap;\n",
              "      gap: 12px;\n",
              "    }\n",
              "\n",
              "    .colab-df-convert {\n",
              "      background-color: #E8F0FE;\n",
              "      border: none;\n",
              "      border-radius: 50%;\n",
              "      cursor: pointer;\n",
              "      display: none;\n",
              "      fill: #1967D2;\n",
              "      height: 32px;\n",
              "      padding: 0 0 0 0;\n",
              "      width: 32px;\n",
              "    }\n",
              "\n",
              "    .colab-df-convert:hover {\n",
              "      background-color: #E2EBFA;\n",
              "      box-shadow: 0px 1px 2px rgba(60, 64, 67, 0.3), 0px 1px 3px 1px rgba(60, 64, 67, 0.15);\n",
              "      fill: #174EA6;\n",
              "    }\n",
              "\n",
              "    [theme=dark] .colab-df-convert {\n",
              "      background-color: #3B4455;\n",
              "      fill: #D2E3FC;\n",
              "    }\n",
              "\n",
              "    [theme=dark] .colab-df-convert:hover {\n",
              "      background-color: #434B5C;\n",
              "      box-shadow: 0px 1px 3px 1px rgba(0, 0, 0, 0.15);\n",
              "      filter: drop-shadow(0px 1px 2px rgba(0, 0, 0, 0.3));\n",
              "      fill: #FFFFFF;\n",
              "    }\n",
              "  </style>\n",
              "\n",
              "      <script>\n",
              "        const buttonEl =\n",
              "          document.querySelector('#df-ccb3f239-b410-4372-9890-87271700e60a button.colab-df-convert');\n",
              "        buttonEl.style.display =\n",
              "          google.colab.kernel.accessAllowed ? 'block' : 'none';\n",
              "\n",
              "        async function convertToInteractive(key) {\n",
              "          const element = document.querySelector('#df-ccb3f239-b410-4372-9890-87271700e60a');\n",
              "          const dataTable =\n",
              "            await google.colab.kernel.invokeFunction('convertToInteractive',\n",
              "                                                     [key], {});\n",
              "          if (!dataTable) return;\n",
              "\n",
              "          const docLinkHtml = 'Like what you see? Visit the ' +\n",
              "            '<a target=\"_blank\" href=https://colab.research.google.com/notebooks/data_table.ipynb>data table notebook</a>'\n",
              "            + ' to learn more about interactive tables.';\n",
              "          element.innerHTML = '';\n",
              "          dataTable['output_type'] = 'display_data';\n",
              "          await google.colab.output.renderOutput(dataTable, element);\n",
              "          const docLink = document.createElement('div');\n",
              "          docLink.innerHTML = docLinkHtml;\n",
              "          element.appendChild(docLink);\n",
              "        }\n",
              "      </script>\n",
              "    </div>\n",
              "  </div>\n",
              "  "
            ]
          },
          "metadata": {},
          "execution_count": 26
        }
      ]
    }
  ],
  "metadata": {
    "kernelspec": {
      "display_name": "Python 3",
      "language": "python",
      "name": "python3"
    },
    "language_info": {
      "codemirror_mode": {
        "name": "ipython",
        "version": 3
      },
      "file_extension": ".py",
      "mimetype": "text/x-python",
      "name": "python",
      "nbconvert_exporter": "python",
      "pygments_lexer": "ipython3",
      "version": "3.8.8"
    },
    "colab": {
      "provenance": []
    }
  },
  "nbformat": 4,
  "nbformat_minor": 5
}